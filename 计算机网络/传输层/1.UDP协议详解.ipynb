{
 "cells": [
  {
   "cell_type": "markdown",
   "metadata": {},
   "source": [
    "# UDP协议详解\n",
    "\n",
    "- User Datagram Protocol 用户数据报协议\n",
    "- 是一个非常简单的协议"
   ]
  },
  {
   "cell_type": "markdown",
   "metadata": {},
   "source": [
    "## 数据报\n",
    "\n",
    ">应用层传输过来的一个完整的数据，UDP对其**不合并**、**不拆分**，直接封装到协议里面然后传输\n",
    "![](images/2022-08-31-18-10-54.png)"
   ]
  },
  {
   "cell_type": "markdown",
   "metadata": {},
   "source": [
    "### UTP首部\n",
    "![](images/2022-08-31-18-14-13.png)"
   ]
  },
  {
   "cell_type": "markdown",
   "metadata": {},
   "source": [
    "### UDP特点\n",
    "1. UDP是**无连接**的协议——不需要提前建立连接\n",
    "   ![](images/2022-08-31-18-15-33.png)\n",
    "\n",
    "2. 不能保证可靠的交付数据，不能保证数据是否丢失，丢失了也无法得知。\n",
    "   ![](images/2022-08-31-18-16-13.png)\n",
    "\n",
    "3. UDP面向报文传输的\n",
    "    ![](images/2022-08-31-18-18-19.png)\n",
    "\n",
    "4. UDP没有拥塞控制——不会感知网络是否拥塞\n",
    "\n",
    "5. UDP的首部开销很小"
   ]
  },
  {
   "cell_type": "markdown",
   "metadata": {},
   "source": []
  }
 ],
 "metadata": {
  "kernelspec": {
   "display_name": "Python 3.9.12 ('base')",
   "language": "python",
   "name": "python3"
  },
  "language_info": {
   "name": "python",
   "version": "3.9.12"
  },
  "orig_nbformat": 4,
  "vscode": {
   "interpreter": {
    "hash": "40f6bf15338c0154930a244fc3026a0d17ebaa8f8b3b254c75ff612c4b63945b"
   }
  }
 },
 "nbformat": 4,
 "nbformat_minor": 2
}
