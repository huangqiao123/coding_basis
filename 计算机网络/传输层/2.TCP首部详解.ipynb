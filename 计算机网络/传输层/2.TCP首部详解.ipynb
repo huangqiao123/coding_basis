{
 "cells": [
  {
   "cell_type": "markdown",
   "metadata": {},
   "source": [
    "# TCP协议结构\n",
    "- Trainsmission Control Protocol 传输控制协议\n"
   ]
  },
  {
   "cell_type": "markdown",
   "metadata": {},
   "source": [
    "## 特点\n",
    "- 面向连接的协议\n",
    "- 一个连接有两端（点对点通信）\n",
    "- 提高可靠的传输服务\n",
    "- 提高全双工的通信\n",
    "- 面向字节流的协议\n",
    ">![](images/2022-09-02-11-01-11.png)"
   ]
  },
  {
   "cell_type": "markdown",
   "metadata": {},
   "source": [
    "## TCP协议的头部结构详解\n",
    ">![](images/2022-09-02-11-15-06.png)\n",
    "\n",
    "1. 序号\n",
    "    >0~$2^{32}$-1\n",
    "    >一个字节一个序号\n",
    "    >数据首字母序号\n",
    "    >![](images/2022-09-02-14-42-16.png)\n",
    "\n",
    "2. 确认号\n",
    "    >0~$2^{32}$-1\n",
    "    >一个字节一个序号\n",
    "    >期待收到的下一个报文的首字符序号\n",
    "    >![](images/2022-09-02-14-44-20.png)\n",
    "    >配合这序号一起使用的\n",
    "    >确认号为N：则表示N-1序号的数据都已经收到了\n",
    "\n",
    "3. 数据偏移\n",
    "    >占4个bit：“0~15”，单位为：32字节\n",
    "    >数据偏离报文开端的距离\n",
    "    >主要与TCP选项有关\n",
    "    >TCP首部为：20~60字节\n",
    "\n",
    "4. TCP标记\n",
    "    >占六位，每一位都有不同的含义\n",
    "    >![](images/2022-09-02-14-51-34.png)\n",
    "    >![](images/2022-09-02-14-53-25.png)\n",
    "\n",
    "5. 窗口\n",
    "    >占16个bit\n",
    "    >指明允许对方发送的数据量\n",
    "\n",
    "\n",
    "6. 校验和\n",
    "    >与UDP一样，不再展开、\n",
    "\n",
    "7. 紧急指针\n",
    "    >紧急数据（URG=1才有效）\n",
    "    >指定紧急数据在报文的位置\n",
    "\n",
    "8.  TCP选项\n",
    "    >最多40字节\n",
    "    >支持未来的拓展\n",
    "\n"
   ]
  },
  {
   "cell_type": "markdown",
   "metadata": {},
   "source": []
  }
 ],
 "metadata": {
  "kernelspec": {
   "display_name": "Python 3.9.12 ('base')",
   "language": "python",
   "name": "python3"
  },
  "language_info": {
   "name": "python",
   "version": "3.9.12"
  },
  "orig_nbformat": 4,
  "vscode": {
   "interpreter": {
    "hash": "40f6bf15338c0154930a244fc3026a0d17ebaa8f8b3b254c75ff612c4b63945b"
   }
  }
 },
 "nbformat": 4,
 "nbformat_minor": 2
}
