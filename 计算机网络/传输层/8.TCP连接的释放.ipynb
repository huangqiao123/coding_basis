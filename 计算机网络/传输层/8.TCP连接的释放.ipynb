{
 "cells": [
  {
   "cell_type": "markdown",
   "metadata": {},
   "source": [
    "# TCP连接的释放过程"
   ]
  },
  {
   "cell_type": "markdown",
   "metadata": {},
   "source": [
    "![](images/2022-09-02-18-54-16.png)\n",
    "\n",
    "主动释放连接的一方会有一个**等待计时**的状态\n",
    "|"
   ]
  },
  {
   "cell_type": "markdown",
   "metadata": {},
   "source": [
    "## 等待计时器\n",
    ">会等待2MSL的时间\n",
    "\n",
    ">MSL是最长报文寿命（Max Segment Lifetime）\n",
    "\n",
    ">MSL建议设置为2分钟\n",
    "\n",
    ">主动释放连接，是不可以直接复用该端口"
   ]
  },
  {
   "cell_type": "markdown",
   "metadata": {},
   "source": [
    "## 为什么需要等待2MSL？\n",
    ">- 最后一个报文没有确认、\n",
    "\n",
    ">- 2MSL时间内没有收到，则接收方会重发\n",
    "\n",
    ">1. 确保发送方的ACK可以到达接收方\n",
    "\n",
    "\n",
    ">2. 确保当前连接的所有报文都已经过期"
   ]
  },
  {
   "cell_type": "markdown",
   "metadata": {},
   "source": []
  }
 ],
 "metadata": {
  "kernelspec": {
   "display_name": "Python 3.9.12 ('base')",
   "language": "python",
   "name": "python3"
  },
  "language_info": {
   "name": "python",
   "version": "3.9.12"
  },
  "orig_nbformat": 4,
  "vscode": {
   "interpreter": {
    "hash": "40f6bf15338c0154930a244fc3026a0d17ebaa8f8b3b254c75ff612c4b63945b"
   }
  }
 },
 "nbformat": 4,
 "nbformat_minor": 2
}
