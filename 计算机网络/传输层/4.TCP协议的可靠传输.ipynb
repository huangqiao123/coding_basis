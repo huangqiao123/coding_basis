{
 "cells": [
  {
   "cell_type": "markdown",
   "metadata": {},
   "source": [
    "# TCP协议的可靠传输\n",
    "- TCP协议的可靠传输基于连续ARQ协议\n",
    "- 滑动窗口以字节为单位"
   ]
  },
  {
   "cell_type": "markdown",
   "metadata": {},
   "source": [
    "现假设有一端字节流，滑动窗口为7，实际上窗口大小很大的。\n",
    "![](images/2022-09-01-23-55-06.png)\n",
    "- 23是就是确认号\n",
    "\n",
    "- ![](images/2022-09-01-23-55-42.png)\n",
    "\n",
    "- 一段时间之后，23，24确认了，则窗口向前推动、\n",
    "  \n",
    "- ![](images/2022-09-01-23-58-17.png)\n",
    "\n",
    "- ![](images/2022-09-02-00-00-37.png)\n",
    "\n",
    "- 这样效率并不高，解决方法是选择重传"
   ]
  },
  {
   "cell_type": "markdown",
   "metadata": {},
   "source": [
    "### 选择重传\n",
    "- 选择重传的边界字符序号记录在TCP首部的TCP选里\n",
    "    ![](images/2022-09-02-10-07-56.png)\n",
    "- 每一个字节都有唯一的32位的序号\n",
    "\n",
    "- ![](images/2022-09-02-10-08-26.png)"
   ]
  }
 ],
 "metadata": {
  "kernelspec": {
   "display_name": "Python 3.9.12 ('base')",
   "language": "python",
   "name": "python3"
  },
  "language_info": {
   "name": "python",
   "version": "3.9.12"
  },
  "orig_nbformat": 4,
  "vscode": {
   "interpreter": {
    "hash": "40f6bf15338c0154930a244fc3026a0d17ebaa8f8b3b254c75ff612c4b63945b"
   }
  }
 },
 "nbformat": 4,
 "nbformat_minor": 2
}
