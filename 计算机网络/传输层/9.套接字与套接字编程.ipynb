{
 "cells": [
  {
   "cell_type": "markdown",
   "metadata": {},
   "source": [
    "# 套接字与套接字编程|"
   ]
  },
  {
   "cell_type": "markdown",
   "metadata": {},
   "source": [
    ">通过端口(Port)可以来标识不同的网络进程，一个进程在使用网络的话，肯定会有一个端口的。\n",
    "\n",
    ">端口使用16bit表示(0~65535)\n",
    "\n",
    ">套接字：Sockket={(IP,Port)}  表示TCP连接的一端\n",
    "\n",
    ">通过套接字可以进行数据发送或者接收\n",
    "\n",
    ">TCP={(Sockket1,Socket2)}，TCP连接由两个套接字组成。\n",
    "\n"
   ]
  },
  {
   "cell_type": "markdown",
   "metadata": {},
   "source": [
    "## 套接字编程\n",
    ">![](images/2022-09-02-19-10-20.png)"
   ]
  },
  {
   "cell_type": "markdown",
   "metadata": {},
   "source": [
    "### 服务层\n",
    "- 被动连接的一方\n",
    "  1. 创建套接字\n",
    "  2. 绑定套接字\n",
    "  3. 监听套接字\n",
    "  4. 接收&处理套接字\n",
    "\n",
    "### 客户端\n",
    "- 主动连接的一方\n",
    "  1. 创建套接字\n",
    "  2. 连接套接字\n",
    "  3. 发送信息"
   ]
  },
  {
   "cell_type": "markdown",
   "metadata": {},
   "source": [
    "### 编程实例"
   ]
  },
  {
   "cell_type": "code",
   "execution_count": 10,
   "metadata": {},
   "outputs": [
    {
     "name": "stdout",
     "output_type": "stream",
     "text": [
      "Recv msg: b'welcome to my course', Client: 0\n",
      "Recv msg: b'welcome to my course', Client: 1\n",
      "Recv msg: b'welcome to my course', Client: 2\n",
      "Recv msg: b'welcome to my course', Client: 3\n",
      "Recv msg: b'welcome to my course', Client: 4\n",
      "Recv msg: b'welcome to my course', Client: 5\n",
      "Recv msg: b'welcome to my course', Client: 6\n",
      "Recv msg: b'welcome to my course', Client: 7\n",
      "Recv msg: b'welcome to my course', Client: 8\n",
      "Recv msg: b'welcome to my course', Client: 9\n"
     ]
    }
   ],
   "source": [
    "import socket\n",
    "\n",
    "def client(i):\n",
    "    #创建套接字\n",
    "    s = socket.socket()\n",
    "    #连接套接字\n",
    "    s.connect(('127.0.0.1',6666))\n",
    "    #发送消息\n",
    "    print(\"Recv msg: %s, Client: %d\"%(s.recv(1024),i))\n",
    "    s.close()\n",
    "\n",
    "if __name__ == \"__main__\":\n",
    "\n",
    "    for i in range(10):\n",
    "        client(i)"
   ]
  },
  {
   "cell_type": "markdown",
   "metadata": {},
   "source": [
    "### 网络套接字 VS 域套接字"
   ]
  },
  {
   "cell_type": "markdown",
   "metadata": {},
   "source": [
    "1. 网络套接字\n",
    "   1. 使用过程要经过协议栈\n",
    "   2. ![](images/2022-09-02-19-37-15.png)\n",
    "\n",
    "2. 域套接字\n",
    "   1. 通过域套接字文件来传输的\n",
    "   2. s符号的文件\n",
    "   3. 使用域套接字来传输文件的话，无需经过协议栈，因此在单机传输中更加推荐"
   ]
  },
  {
   "cell_type": "markdown",
   "metadata": {},
   "source": []
  }
 ],
 "metadata": {
  "kernelspec": {
   "display_name": "Python 3.9.12 ('base')",
   "language": "python",
   "name": "python3"
  },
  "language_info": {
   "codemirror_mode": {
    "name": "ipython",
    "version": 3
   },
   "file_extension": ".py",
   "mimetype": "text/x-python",
   "name": "python",
   "nbconvert_exporter": "python",
   "pygments_lexer": "ipython3",
   "version": "3.9.12"
  },
  "orig_nbformat": 4,
  "vscode": {
   "interpreter": {
    "hash": "40f6bf15338c0154930a244fc3026a0d17ebaa8f8b3b254c75ff612c4b63945b"
   }
  }
 },
 "nbformat": 4,
 "nbformat_minor": 2
}
