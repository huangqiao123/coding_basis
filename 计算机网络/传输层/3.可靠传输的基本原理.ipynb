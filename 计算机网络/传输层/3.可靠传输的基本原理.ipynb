{
 "cells": [
  {
   "cell_type": "markdown",
   "metadata": {},
   "source": [
    "# 可靠传输的基本原理"
   ]
  },
  {
   "cell_type": "markdown",
   "metadata": {},
   "source": [
    "## 停止等待协议\n",
    "TCP协议是全双工信道的，为了方便讨论，我们假定一个接收方和一个发送方\n",
    "- 每发送一个消息，都需要设置一个定时器：称为**超时定时器**\n",
    "- 对信道的利用效率不高：没有收到确认消息要一直等待\n",
    "\n",
    "### 无差错情况（理想情况）\n",
    "![](images/2022-09-01-11-19-11.png)\n",
    "\n",
    ">发送方发送消息之后，就停止生成新的消息了，等待接收方的确认消息之后再继续发送消息\n",
    "\n",
    "### 出差错的情况\n",
    "1. 通过超时重传来保证可靠传输的三种情况\n",
    "    >1. ![](images/2022-09-01-11-27-58.png)\n",
    "    >2. ![](images/2022-09-01-11-21-56.png)\n",
    "    >3. ![](images/2022-09-01-11-23-04.png)\n",
    "    - 总结如下：![](images/2022-09-01-11-24-22.png)\n",
    "\n",
    "    \n"
   ]
  },
  {
   "cell_type": "markdown",
   "metadata": {},
   "source": [
    "## 连续ARQ协议"
   ]
  },
  {
   "cell_type": "markdown",
   "metadata": {},
   "source": [
    "- ARQ（Automatic Repeat request：自动重传请求）\n",
    "- 大幅提高信道的利用率\n",
    "- 滑动窗口\n",
    "- 累计确认"
   ]
  },
  {
   "cell_type": "markdown",
   "metadata": {},
   "source": [
    "### 累计确认的方法\n",
    "![](images/2022-09-01-23-45-12.png)\n",
    "\n",
    "- 窗口内的都是可以发送的\n",
    "- 只要收到关于某个报文的确认消息，就说明该消息之前的消息全部收到了。\n",
    "- 只要收到关于报文5的确认消息，滑动窗口就可以向前移动五位\n",
    "- TCP协议的可靠性传输是根据连续ARQ协议开发的"
   ]
  },
  {
   "cell_type": "markdown",
   "metadata": {},
   "source": []
  }
 ],
 "metadata": {
  "kernelspec": {
   "display_name": "Python 3.9.12 ('base')",
   "language": "python",
   "name": "python3"
  },
  "language_info": {
   "name": "python",
   "version": "3.9.12"
  },
  "orig_nbformat": 4,
  "vscode": {
   "interpreter": {
    "hash": "40f6bf15338c0154930a244fc3026a0d17ebaa8f8b3b254c75ff612c4b63945b"
   }
  }
 },
 "nbformat": 4,
 "nbformat_minor": 2
}
