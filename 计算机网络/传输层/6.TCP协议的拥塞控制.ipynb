{
 "cells": [
  {
   "cell_type": "markdown",
   "metadata": {},
   "source": [
    "# TCP协议的拥塞控制"
   ]
  },
  {
   "cell_type": "markdown",
   "metadata": {},
   "source": [
    ">当网络中的数据报文过多的时候，也会发生拥塞。因此需要拥塞控制。"
   ]
  },
  {
   "cell_type": "markdown",
   "metadata": {},
   "source": [
    "## 拥塞的根源\n",
    "![](images/2022-09-02-15-31-19.png)\n",
    ">网络对设备的性能要求大于可用资源\n",
    "\n",
    ">一条数据链路经过非常多的设备\n",
    "\n",
    ">数据链路中各个部分都有可能成为网络传输的瓶颈"
   ]
  },
  {
   "cell_type": "markdown",
   "metadata": {},
   "source": [
    "## TCP协议的拥塞控制\n",
    "- 流量控制考虑的是点对点的通信量的控制\n",
    "- 拥塞控制考虑的是自身和整个网络，是全局性的考虑\n",
    "- 拥塞控制很难有理论最优解\n",
    "\n",
    "思想：\n",
    "- 简单粗暴拥塞判断方法：报文超时则认为是拥塞，(但是实际上也可能是网络故障导致的)。\n",
    "\n"
   ]
  },
  {
   "cell_type": "markdown",
   "metadata": {},
   "source": [
    "### 1. 慢启动算法\n",
    "> 1. 由小到大逐渐增加发送数据量\n",
    "\n",
    "> 2. 收到上一批报文全部的确认消息，发送报文的数量就翻倍，直至慢启动阈值。\n",
    "\n",
    "> 3. ![](images/2022-09-02-15-40-08.png)"
   ]
  },
  {
   "cell_type": "markdown",
   "metadata": {},
   "source": [
    "### 3. 拥塞避免算法\n",
    ">1. 维护一个拥塞窗口的变量，该变量大于慢启动窗口\n",
    "\n",
    ">2. 只要网络不拥塞，就试探着将拥塞窗口调大加1。\n",
    "\n",
    "- 这两个算法结合先是大调，然后是微调。\n",
    "\n",
    "- ![](images/2022-09-02-15-45-48.png)"
   ]
  },
  {
   "cell_type": "markdown",
   "metadata": {},
   "source": []
  }
 ],
 "metadata": {
  "kernelspec": {
   "display_name": "Python 3.9.12 ('base')",
   "language": "python",
   "name": "python3"
  },
  "language_info": {
   "name": "python",
   "version": "3.9.12"
  },
  "orig_nbformat": 4,
  "vscode": {
   "interpreter": {
    "hash": "40f6bf15338c0154930a244fc3026a0d17ebaa8f8b3b254c75ff612c4b63945b"
   }
  }
 },
 "nbformat": 4,
 "nbformat_minor": 2
}
