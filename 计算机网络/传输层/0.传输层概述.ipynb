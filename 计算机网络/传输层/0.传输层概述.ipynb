{
 "cells": [
  {
   "cell_type": "markdown",
   "metadata": {},
   "source": [
    "# 章节导学\n",
    "\n",
    "传输层属于OSI七层模型的第四层\n",
    "\n",
    "属于TCP/IP模型的第三层\n",
    "\n",
    "![](images/2022-08-31-17-40-26.png)"
   ]
  },
  {
   "cell_type": "markdown",
   "metadata": {},
   "source": [
    "- 编程对接的层次\n",
    "- 用户功能里面的最底层\n",
    "- 属于面向通信部分的最高层了\n",
    "- 传输层是管理端到端的通信链接"
   ]
  },
  {
   "cell_type": "markdown",
   "metadata": {},
   "source": [
    "## 把传输层以下的视为虚拟的互连网络\n",
    "\n",
    "![](images/2022-08-31-17-48-31.png)\n",
    "\n",
    "### 进程与进程的通信\n",
    "\n",
    "左边的方法主要是单机的进程通信\n",
    "右边是更加广泛的进程间通信的方法\n",
    "![](images/2022-08-31-17-49-49.png)"
   ]
  },
  {
   "cell_type": "markdown",
   "metadata": {},
   "source": [
    "### 端口\n",
    "- 使用端口(Port)来标记不同的网络进程\n",
    "- 端口(Port)使用16比特位来表示(0~65535)\n",
    "- ![](images/2022-08-31-17-54-08.png)\n",
    "\n",
    "- ![](images/2022-08-31-17-55-04.png)"
   ]
  },
  {
   "cell_type": "markdown",
   "metadata": {},
   "source": [
    "### 两个重要的协议\n",
    "- ![](images/2022-08-31-17-55-42.png)"
   ]
  },
  {
   "cell_type": "markdown",
   "metadata": {},
   "source": []
  }
 ],
 "metadata": {
  "kernelspec": {
   "display_name": "Python 3.9.12 ('base')",
   "language": "python",
   "name": "python3"
  },
  "language_info": {
   "name": "python",
   "version": "3.9.12"
  },
  "orig_nbformat": 4,
  "vscode": {
   "interpreter": {
    "hash": "40f6bf15338c0154930a244fc3026a0d17ebaa8f8b3b254c75ff612c4b63945b"
   }
  }
 },
 "nbformat": 4,
 "nbformat_minor": 2
}
