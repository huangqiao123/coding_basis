{
 "cells": [
  {
   "cell_type": "markdown",
   "metadata": {},
   "source": [
    "# TCP协议的流量控制"
   ]
  },
  {
   "cell_type": "markdown",
   "metadata": {},
   "source": [
    ">在网络传输过程中，我们要考虑一个问题，就是接收方无法快速接收很大的流量，这个时候就希望发送方把流量发送得慢一些，这样就要求发送方要具备流量控制的能力"
   ]
  },
  {
   "cell_type": "markdown",
   "metadata": {},
   "source": [
    "- TCP流量控制指让发送方发送速率不要太快\n",
    "\n",
    "- TCP流量控制是通过使用滑动窗口来实现的\n"
   ]
  },
  {
   "cell_type": "markdown",
   "metadata": {},
   "source": [
    "## 回忆窗口\n",
    "![](images/2022-09-02-15-12-04.png)"
   ]
  },
  {
   "cell_type": "markdown",
   "metadata": {},
   "source": [
    "## 流量控制的例子"
   ]
  },
  {
   "cell_type": "markdown",
   "metadata": {},
   "source": [
    "![](images/2022-09-02-15-18-50.png)"
   ]
  },
  {
   "cell_type": "markdown",
   "metadata": {},
   "source": [
    "## 可能出现的问题\n",
    ">发送方关于窗口的报文消失了怎么办？\n",
    "\n",
    "![](images/2022-09-02-15-21-23.png)\n",
    "\n",
    ">**这样接收方会一直等待，接收方也会一直等待！！！形成死锁**\n",
    "\n",
    "- TCP的可靠传输都是对数据的确认，序列号和确认号都是对字节流进行确认的，对特殊的消息，比如调整窗口大小的消息其实是没有超时重传的机制的，因此会形成死锁的局面，如何解决：**坚持定时器**"
   ]
  },
  {
   "cell_type": "markdown",
   "metadata": {},
   "source": [
    "### 坚持定时器\n",
    "- 当发送方收到窗口为0的消息，则启动坚持定时器\n",
    "- 坚持定时器每隔一段时间发送一个**窗口探测报文**\n",
    "- 发送方每隔一段时间会询问接收方的窗口情况，这样可以解决死锁问题"
   ]
  }
 ],
 "metadata": {
  "kernelspec": {
   "display_name": "Python 3.9.12 ('base')",
   "language": "python",
   "name": "python3"
  },
  "language_info": {
   "name": "python",
   "version": "3.9.12"
  },
  "orig_nbformat": 4,
  "vscode": {
   "interpreter": {
    "hash": "40f6bf15338c0154930a244fc3026a0d17ebaa8f8b3b254c75ff612c4b63945b"
   }
  }
 },
 "nbformat": 4,
 "nbformat_minor": 2
}
