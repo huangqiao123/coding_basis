{
 "cells": [
  {
   "cell_type": "markdown",
   "metadata": {},
   "source": [
    "# TCP连接的建立之三次握手"
   ]
  },
  {
   "cell_type": "markdown",
   "metadata": {},
   "source": [
    "## 回忆：TCP标记\n",
    ">![](images/2022-09-02-15-50-03.png)\n",
    "\n",
    ">![](images/2022-09-02-15-50-28.png)\n"
   ]
  },
  {
   "cell_type": "markdown",
   "metadata": {},
   "source": [
    "## TCP连接的建立\n",
    "\n",
    "![](images/2022-09-02-15-58-40.png)\n",
    "\n",
    ">通过这三次握手，连接就建立起来了\n",
    "\n",
    ">1. 第一次握手，和第二次握手均有SYN的标记，是连接请求的意思\n",
    "\n",
    ">2. 第二三次均有ACK的标记，对双方的确认号进行同步"
   ]
  },
  {
   "cell_type": "markdown",
   "metadata": {},
   "source": [
    "### 为什么发送方要发出第三个确认报文呢？\n",
    "- 避免已经**失效的连接请求报文**传送到对方，**引起错误**\n",
    "\n",
    "- ![](images/2022-09-02-16-33-18.png)\n",
    "\n",
    "- ![](images/2022-09-02-17-10-21.png)\n"
   ]
  },
  {
   "cell_type": "markdown",
   "metadata": {},
   "source": []
  }
 ],
 "metadata": {
  "language_info": {
   "name": "python"
  },
  "orig_nbformat": 4
 },
 "nbformat": 4,
 "nbformat_minor": 2
}
