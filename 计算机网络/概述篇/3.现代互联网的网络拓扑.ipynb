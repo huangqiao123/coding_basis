{
 "cells": [
  {
   "cell_type": "markdown",
   "metadata": {},
   "source": [
    "# 现代互联网的网络拓扑"
   ]
  },
  {
   "cell_type": "markdown",
   "metadata": {},
   "source": [
    "## 边缘部分\n",
    "![](images/2022-08-29-10-09-13.png)\n",
    "\n",
    "![](images/2022-08-29-10-11-26.png)"
   ]
  },
  {
   "cell_type": "markdown",
   "metadata": {},
   "source": [
    "## 核心部分"
   ]
  },
  {
   "cell_type": "markdown",
   "metadata": {},
   "source": [
    "![](images/2022-08-29-10-12-19.png)\n",
    "有很多海底电缆\n",
    "\n",
    "现代互联网的网络拓扑\n",
    "![](images/2022-08-29-10-14-10.png)\n",
    "\n",
    "![](images/2022-08-29-10-19-18.png)\n",
    "\n",
    "### 客户-服务器(C/S)模式\n",
    "![](images/2022-08-29-10-20-31.png)\n",
    "\n",
    "### 对等连接（P2P）模式\n",
    "![](images/2022-08-29-10-22-42.png)\n",
    "**使得下载速度更快！！！**"
   ]
  },
  {
   "cell_type": "markdown",
   "metadata": {},
   "source": []
  }
 ],
 "metadata": {
  "kernelspec": {
   "display_name": "Python 3.9.12 ('base')",
   "language": "python",
   "name": "python3"
  },
  "language_info": {
   "codemirror_mode": {
    "name": "ipython",
    "version": 3
   },
   "file_extension": ".py",
   "mimetype": "text/x-python",
   "name": "python",
   "nbconvert_exporter": "python",
   "pygments_lexer": "ipython3",
   "version": "3.9.12"
  },
  "orig_nbformat": 4,
  "vscode": {
   "interpreter": {
    "hash": "40f6bf15338c0154930a244fc3026a0d17ebaa8f8b3b254c75ff612c4b63945b"
   }
  }
 },
 "nbformat": 4,
 "nbformat_minor": 2
}
