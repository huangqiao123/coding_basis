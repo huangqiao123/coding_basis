{
 "cells": [
  {
   "cell_type": "markdown",
   "metadata": {},
   "source": [
    "# 物理层概述"
   ]
  },
  {
   "cell_type": "markdown",
   "metadata": {},
   "source": [
    "## 网络层的作用\n",
    "- 连接不同的物理设备\n",
    "- 传输比特流\n",
    "\n",
    "### 介质\n",
    "有线介质\n",
    "- 双绞线![](images/2022-08-29-10-50-14.png)\n",
    "- 同轴电缆![](images/2022-08-29-10-50-37.png)（了解）\n",
    "- **光纤**![](images/2022-08-29-10-51-13.png)\n",
    "\n",
    "无线：\n",
    "- 红外线\n",
    "- 无线设备（4G）\n",
    "- 激光\n",
    "\n",
    "### 比特流\n",
    "![](images/2022-08-29-10-53-17.png)"
   ]
  },
  {
   "cell_type": "markdown",
   "metadata": {},
   "source": [
    "## 信道的基本概念\n",
    "- 信道是往一个方向传送信息的媒体\n",
    "- 一个通信电路包含一个接收信道和一个发送信道\n",
    "- ![](images/2022-08-29-10-56-52.png)\n",
    "\n",
    "### 分类\n",
    "- 单工通信信道\n",
    "- 半双工通信信道\n",
    "  - 双方都可以发送和接收信息\n",
    "  - 不能双方同时发送，也不能同时接收\n",
    "- 全双工通信信道\n",
    "  - 双方都可以同时发送和接受信息"
   ]
  },
  {
   "cell_type": "markdown",
   "metadata": {},
   "source": [
    "## 分用-复用技术\n",
    "提高信道的利用率\n",
    "![](images/2022-08-29-11-01-43.png)\n",
    "多个计算机连接一个复用器，多个计算机连接一个分用器\n",
    "![](images/2022-08-29-11-02-52.png)\n",
    "- 频分复用\n",
    "- 时分复用\n",
    "- 波分复用\n",
    "- 码分复用"
   ]
  },
  {
   "cell_type": "markdown",
   "metadata": {},
   "source": []
  }
 ],
 "metadata": {
  "kernelspec": {
   "display_name": "Python 3.9.12 ('base')",
   "language": "python",
   "name": "python3"
  },
  "language_info": {
   "name": "python",
   "version": "3.9.12"
  },
  "orig_nbformat": 4,
  "vscode": {
   "interpreter": {
    "hash": "40f6bf15338c0154930a244fc3026a0d17ebaa8f8b3b254c75ff612c4b63945b"
   }
  }
 },
 "nbformat": 4,
 "nbformat_minor": 2
}
