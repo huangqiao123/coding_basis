{
 "cells": [
  {
   "cell_type": "markdown",
   "metadata": {},
   "source": [
    "# 计算机网络概述"
   ]
  },
  {
   "cell_type": "markdown",
   "metadata": {},
   "source": [
    "## 互联网的发展历史\n",
    "![](images/2022-08-29-09-32-58.png)\n",
    "\n",
    "### 单个网络ARPANET\n",
    "![](images/2022-08-29-09-33-45.png)\n",
    "### 三层结构互联网\n",
    "![](images/2022-08-29-09-34-41.png)\n",
    "### 多层次ISP互联网\n",
    "- ISP：网络服务提供商\n",
    "- 中国电信、中国移动、中国联通等等\n",
    "![](images/2022-08-29-09-37-40.png)"
   ]
  },
  {
   "cell_type": "markdown",
   "metadata": {},
   "source": [
    "## 中国互联网的发展历史\n",
    "\n",
    "![](images/2022-08-29-09-39-43.png)"
   ]
  }
 ],
 "metadata": {
  "kernelspec": {
   "display_name": "Python 3.9.12 ('base')",
   "language": "python",
   "name": "python3"
  },
  "language_info": {
   "name": "python",
   "version": "3.9.12"
  },
  "orig_nbformat": 4,
  "vscode": {
   "interpreter": {
    "hash": "40f6bf15338c0154930a244fc3026a0d17ebaa8f8b3b254c75ff612c4b63945b"
   }
  }
 },
 "nbformat": 4,
 "nbformat_minor": 2
}
