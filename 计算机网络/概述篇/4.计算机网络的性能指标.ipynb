{
 "cells": [
  {
   "cell_type": "markdown",
   "metadata": {},
   "source": [
    "# 计算机网络的性能指标\n",
    "![](images/2022-08-29-10-26-16.png)\n",
    " "
   ]
  },
  {
   "cell_type": "markdown",
   "metadata": {},
   "source": [
    "## 时延\n",
    "- 发送时延\n",
    "- ![](images/2022-08-29-10-32-45.png)\n",
    "- 传播时延\n",
    "- ![](images/2022-08-29-10-33-40.png)\n",
    "- 排队时延：\n",
    "    数据包在网络设备中等待被处理的时间\n",
    "- 处理时延：\n",
    "    数据包达到设备或者目的机器被处理所需要的时间\n",
    "\n",
    "总时延=四者相加"
   ]
  },
  {
   "cell_type": "markdown",
   "metadata": {},
   "source": [
    "## 往返时间RTT\n",
    "- RTT(Route-Trip Time)是评估网络质量的一项重要指标\n",
    "- RTT表示的是数据报文在端到端通信中的来回一次的时间\n",
    "- 通常使用ping命令来查看RTT"
   ]
  },
  {
   "cell_type": "markdown",
   "metadata": {},
   "source": []
  }
 ],
 "metadata": {
  "kernelspec": {
   "display_name": "Python 3.9.12 ('base')",
   "language": "python",
   "name": "python3"
  },
  "language_info": {
   "codemirror_mode": {
    "name": "ipython",
    "version": 3
   },
   "file_extension": ".py",
   "mimetype": "text/x-python",
   "name": "python",
   "nbconvert_exporter": "python",
   "pygments_lexer": "ipython3",
   "version": "3.9.12"
  },
  "orig_nbformat": 4,
  "vscode": {
   "interpreter": {
    "hash": "40f6bf15338c0154930a244fc3026a0d17ebaa8f8b3b254c75ff612c4b63945b"
   }
  }
 },
 "nbformat": 4,
 "nbformat_minor": 2
}
