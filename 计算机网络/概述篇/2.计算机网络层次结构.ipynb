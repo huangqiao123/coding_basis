{
 "cells": [
  {
   "cell_type": "markdown",
   "metadata": {},
   "source": [
    "# 计算机的层次结构\n"
   ]
  },
  {
   "cell_type": "markdown",
   "metadata": {},
   "source": [
    "## 层次结构设计的基本原则\n",
    "![](images/2022-08-29-09-51-30.png)\n",
    "- 保证数据通路顺畅\n",
    "- 识别目的计算机\n",
    "- 目的计算机状态\n",
    "- 数据是否错误\n",
    "\n",
    "例子：![](images/2022-08-29-09-52-34.png)\n",
    "\n",
    "基本原则：\n",
    "- 各层之间是相互独立\n",
    "- 每一层要有足够的灵活性\n",
    "- 各层之间完全解耦"
   ]
  },
  {
   "cell_type": "markdown",
   "metadata": {},
   "source": [
    "## OSI七层模型\n",
    "![](images/2022-08-29-09-56-08.png)\n",
    "- OSI欲成为全球计算机都遵循的标准\n",
    "- OSI在市场化的过程中困难重重，TCP/IP在全球范围成功运行\n",
    "- OS最终并没有成为广为使用的标准模型\n",
    "\n",
    "原因：\n",
    "- OSI的专家缺乏实际经验\n",
    "- OSI标准指定周期过长，按OSI标准生产的设备无法及时进入市场\n",
    "- OSI模型设计并不合理，一些功能在多层中重复出现"
   ]
  },
  {
   "cell_type": "markdown",
   "metadata": {},
   "source": [
    "## TCP/IP四层模型\n",
    "![](images/2022-08-29-10-02-18.png)\n"
   ]
  },
  {
   "cell_type": "markdown",
   "metadata": {},
   "source": [
    "![](images/2022-08-29-10-04-44.png)"
   ]
  },
  {
   "cell_type": "markdown",
   "metadata": {},
   "source": [
    "![](images/2022-08-29-10-05-12.png)\n",
    "之间窄，两端大的沙漏形状"
   ]
  },
  {
   "cell_type": "markdown",
   "metadata": {},
   "source": []
  }
 ],
 "metadata": {
  "kernelspec": {
   "display_name": "Python 3.9.12 ('base')",
   "language": "python",
   "name": "python3"
  },
  "language_info": {
   "name": "python",
   "version": "3.9.12"
  },
  "orig_nbformat": 4,
  "vscode": {
   "interpreter": {
    "hash": "40f6bf15338c0154930a244fc3026a0d17ebaa8f8b3b254c75ff612c4b63945b"
   }
  }
 },
 "nbformat": 4,
 "nbformat_minor": 2
}
