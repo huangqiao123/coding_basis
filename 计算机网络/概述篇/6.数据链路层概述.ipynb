{
 "cells": [
  {
   "cell_type": "markdown",
   "metadata": {},
   "source": [
    "# 数据链路层概述\n",
    "**数据链路层只进行数据的检测，不进行纠正，直接丢弃掉**\n",
    "- 封装成帧\n",
    "- 透明传输\n",
    "- 差错监测"
   ]
  },
  {
   "cell_type": "markdown",
   "metadata": {},
   "source": [
    "## 封装成帧\n",
    "\n",
    "### 帧\n",
    "- 帧是数据链路层数据的基本单位\n",
    "- 发送端在网络层的一段数据前后添加特定标记形成“帧”\n",
    "- 接收端根据前后特点标记识别出“帧”\n",
    "\n",
    "物理层只管比特位的传输，不会管你“帧”不“帧”\n",
    "### 封装成帧\n",
    "![](images/2022-08-29-14-51-34.png)\n",
    "帧首部和尾部是特点的控制字符（特定比特流）\n",
    "\n",
    "SOH:00000001\n",
    "\n",
    "EOT:00000100"
   ]
  },
  {
   "cell_type": "markdown",
   "metadata": {},
   "source": []
  },
  {
   "cell_type": "markdown",
   "metadata": {},
   "source": [
    "## 透明传输\n",
    "\n",
    "### 透明\n",
    "- “透明“在计算机领域是非常重要的一个术语\n",
    "- 一种实际存在的事物却又看起来不存在一样\n",
    "- 即是控制字符在帧数据中，但是要当做不存在的去处理\n",
    "\n",
    "加转义字符\n",
    "\n",
    "![](images/2022-08-29-14-58-16.png)\n",
    "\n",
    "- 编程语言中\"\\\"一般为转义字符\n",
    "- \"\\n、\\t\"分别为换行符和制表符\n",
    "- \"\\\\\"、\"\\\\\\\\\""
   ]
  },
  {
   "cell_type": "markdown",
   "metadata": {},
   "source": [
    "## 差错监测\n",
    "- 物理层只管传输比特位，无法控制是否出错\n",
    "- 数据链路层负责起“差错监测”的工作"
   ]
  },
  {
   "cell_type": "markdown",
   "metadata": {},
   "source": [
    "### 奇偶校验码\n",
    "假设需要传输00110010的比特流，我们在后面加1位\n",
    "![](images/2022-08-29-15-09-16.png)\n",
    "\n",
    "具有一定的局限性，出错偶数个就检测不出错误了"
   ]
  },
  {
   "cell_type": "markdown",
   "metadata": {},
   "source": [
    "### 循环冗余校验码CRC(常用)\n",
    "- 一种根据传输或者保存的数据而产生**固定位数校验码**的方法\n",
    "- 检测数据传输或者保存后可能出现的错误\n",
    "- 生成的数字计算出来并且附加到数据后面\n",
    "\n",
    "#### 模\"2\"除法\n",
    "- 模2除法是二进制下的除法\n",
    "- 商只看最高位\n",
    "- 与算术的除法类似，但除法不借位，实际是异或操作\n",
    "- ![](images/2022-08-29-15-22-08.png)"
   ]
  },
  {
   "cell_type": "markdown",
   "metadata": {},
   "source": [
    "1. 选定一个用于校验的多项式**G(x)**，并在数据尾部添加**r**个0\n",
    "2. 将添加r个0后的数据，使用模2除法除以多项式的位串\n",
    "3. 得到的余数填充原数据r个0的位置得到可校验的位串\n",
    "   ![](images/2022-08-29-15-29-36.png)\n",
    "   ![](images/2022-08-29-15-31-44.png)\n",
    "   ![](images/2022-08-29-15-32-08.png)\n",
    "- 接收端接受的数据除以G(x)的位串，根据余数判断出错\n",
    "- 余数为0表明没有出错"
   ]
  },
  {
   "cell_type": "markdown",
   "metadata": {},
   "source": [
    "- CRC的错误检测能力与位串的阶数r有关\n",
    "- r=0的时候就退化成了奇偶校验码\n",
    "- G(x)并非随便选的\n",
    "  - ![](images/2022-08-29-15-41-58.png)"
   ]
  },
  {
   "cell_type": "markdown",
   "metadata": {},
   "source": [
    "### 最大传输单元MTU\n",
    "- 最大传输单元MTU(Maximum Transmission Unit)\n",
    "- 数据链路层的数据帧也不是无限大的\n",
    "    ![](images/2022-08-29-16-35-20.png)"
   ]
  },
  {
   "cell_type": "markdown",
   "metadata": {},
   "source": [
    "- MTU收物理硬件影响\n",
    "- 数据帧过大或者过小都影响传输的效率"
   ]
  },
  {
   "cell_type": "markdown",
   "metadata": {},
   "source": [
    "- MTU\n",
    "- 路径MTU(木桶效应)由最小值决定\n",
    "- ![](images/2022-08-29-16-37-12.png)"
   ]
  },
  {
   "cell_type": "markdown",
   "metadata": {},
   "source": [
    "### 以太网协议详解\n",
    "学习某一层协议的时候，我们屏蔽其他层以此来简化我们的理解\n",
    ">![](images/2022-08-29-16-38-55.png)"
   ]
  },
  {
   "cell_type": "markdown",
   "metadata": {},
   "source": [
    "假设我们有以下拓扑\n",
    "![](images/2022-08-29-16-39-26.png)\n",
    "路由器如何知道A要发给谁呢"
   ]
  },
  {
   "cell_type": "markdown",
   "metadata": {},
   "source": [
    "### MAC地址\n",
    "- MAC地址（物理地址、硬件地址）\n",
    "- 每一台设备都有唯一的MAC地址\n",
    "- MAC地址共48位，使用16机制表示\n",
    "\n",
    "查看计算机的MAC地址\n",
    ">ipconfig/all\n",
    ">30-B4-9E-85-CA  总共48位置"
   ]
  },
  {
   "cell_type": "markdown",
   "metadata": {},
   "source": [
    "### 以太网协议(重点)\n",
    "- 广泛使用的**局域网**技术\n",
    "- 以太网是一种应用于数据链路层的协议\n",
    "- 使用以太网可以完成**相邻设备**的数据帧传输"
   ]
  },
  {
   "cell_type": "markdown",
   "metadata": {},
   "source": [
    "协议的数据格式分成五部分\n",
    ">![](images/2022-08-29-16-45-13.png)\n",
    "1. 目的地址 6\n",
    "2. 源地址   6\n",
    "3. 类型     2     \n",
    "4. 帧数据   46~1500\n",
    "5. CRC      4\n",
    "类型表示的是帧数据是什么类型的数据\n",
    "![](images/2022-08-29-16-47-28.png)  中间是网络层的协议\n"
   ]
  },
  {
   "cell_type": "markdown",
   "metadata": {},
   "source": [
    "#### MAC地址表\n",
    "- 是一个映射\n",
    "- ![](images/2022-08-29-16-48-29.png)\n",
    "- ![](images/2022-08-29-16-50-17.png)"
   ]
  },
  {
   "cell_type": "markdown",
   "metadata": {},
   "source": [
    "- 如果路由器接收到的数据帧中的MAC地址没有配对到硬件接口，如何处理？\n",
    "- ![](images/2022-08-29-16-52-44.png)"
   ]
  },
  {
   "cell_type": "markdown",
   "metadata": {},
   "source": [
    "一个复杂些的例子\n",
    ">![](images/2022-08-29-17-03-44.png)\n",
    "- 这要学习网络层的内容"
   ]
  },
  {
   "cell_type": "markdown",
   "metadata": {},
   "source": []
  }
 ],
 "metadata": {
  "kernelspec": {
   "display_name": "Python 3.9.12 ('base')",
   "language": "python",
   "name": "python3"
  },
  "language_info": {
   "name": "python",
   "version": "3.9.12"
  },
  "orig_nbformat": 4,
  "vscode": {
   "interpreter": {
    "hash": "40f6bf15338c0154930a244fc3026a0d17ebaa8f8b3b254c75ff612c4b63945b"
   }
  }
 },
 "nbformat": 4,
 "nbformat_minor": 2
}
