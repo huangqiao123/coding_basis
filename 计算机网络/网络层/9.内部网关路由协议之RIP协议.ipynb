{
 "cells": [
  {
   "cell_type": "markdown",
   "metadata": {},
   "source": [
    "# RIP协议"
   ]
  },
  {
   "cell_type": "markdown",
   "metadata": {},
   "source": [
    "## 距离矢量（DV）算法\n",
    "\n",
    "![](images/2022-08-30-18-41-38.png)"
   ]
  },
  {
   "cell_type": "markdown",
   "metadata": {},
   "source": [
    "每一节点与相邻节点交换向量$D_i$和$S_i$的信息\n",
    "\n",
    "**每一个节点根据交换的信息更新自己的节点信息**\n",
    "\n",
    "![](images/2022-08-30-18-47-45.png)"
   ]
  },
  {
   "cell_type": "markdown",
   "metadata": {},
   "source": [
    "![](images/2022-08-30-18-51-04.png)\n",
    "\n",
    "![](images/2022-08-30-20-24-26.png)"
   ]
  },
  {
   "cell_type": "markdown",
   "metadata": {},
   "source": [
    "## RIP协议的过程\n",
    "- RIP协议(Routing Information Protocol)路由信息协议\n",
    "- RIP协议是使用DV算法的一种路由协议\n",
    "  \n",
    "思想\n",
    "- RIP协议把网络的跳数(hop)作为DV算法的距离\n",
    "- RIP协议**每隔30s**交换一次路由信息\n",
    "- RIP协议认为跳数>15的路由是不可达路由"
   ]
  },
  {
   "cell_type": "markdown",
   "metadata": {},
   "source": [
    "过程"
   ]
  },
  {
   "cell_type": "markdown",
   "metadata": {},
   "source": [
    "1. 路由器初始化路由信息：两个向量\n",
    "2. 对相邻路由器X发过来的信息，对信息的内容进行修改（下一跳地址设置为X，所有距离加1）\n",
    "    1. 检索本地路由，将信息中新的路由器插入到路由表里面\n",
    "    ![](images/2022-08-31-10-24-43.png)\n",
    "    2. 检索本地路由,对于下一跳为X的，更新为修改后的信息\n",
    "    ![](images/2022-08-30-20-44-22.png)\n",
    "    1. 检索本地路由,对比相同目的的距离，如果新消息的距离更小，则更新标的路由表\n",
    "    ![](images/2022-08-30-20-45-52.png)\n",
    "3. 如果3分钟没有收到相邻的路由信息，则把相邻路由设置为不可达（16跳）"
   ]
  },
  {
   "cell_type": "markdown",
   "metadata": {},
   "source": [
    "### 缺点\n",
    "- 故障信息传递慢\n",
    "- 会出现伪死锁！！！\n",
    "- ![](images/2022-08-30-20-48-47.png)\n",
    "\n",
    "\n",
    "原因：\n",
    "1. 随便相信“隔壁老王”、\n",
    "2. “自己不思考，视野不够”\n",
    "\n",
    "![](images/2022-08-30-20-52-00.png)"
   ]
  }
 ],
 "metadata": {
  "kernelspec": {
   "display_name": "Python 3.9.12 ('base')",
   "language": "python",
   "name": "python3"
  },
  "language_info": {
   "name": "python",
   "version": "3.9.12"
  },
  "orig_nbformat": 4,
  "vscode": {
   "interpreter": {
    "hash": "40f6bf15338c0154930a244fc3026a0d17ebaa8f8b3b254c75ff612c4b63945b"
   }
  }
 },
 "nbformat": 4,
 "nbformat_minor": 2
}
