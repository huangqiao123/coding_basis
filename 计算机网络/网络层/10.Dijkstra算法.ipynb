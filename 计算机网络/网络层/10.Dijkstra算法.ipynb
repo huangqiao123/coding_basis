{
 "cells": [
  {
   "cell_type": "markdown",
   "metadata": {},
   "source": [
    "# Dijkstra(迪杰斯特拉)算法"
   ]
  },
  {
   "cell_type": "markdown",
   "metadata": {},
   "source": [
    "- Dijkstra算法是著名的图算法\n",
    "- Dijkstra算法解决**有权图从一个节点到其他节点的最短路径问题**\n",
    "- 以起始点为中心，向外层层扩展\n"
   ]
  },
  {
   "cell_type": "markdown",
   "metadata": {},
   "source": [
    "![](images/2022-08-30-21-00-38.png)"
   ]
  },
  {
   "cell_type": "markdown",
   "metadata": {},
   "source": [
    "![](images/2022-08-30-21-02-14.png)"
   ]
  },
  {
   "cell_type": "markdown",
   "metadata": {},
   "source": [
    "### 初始化\n",
    ">![](images/2022-08-30-21-03-03.png)\n",
    ">![](images/2022-08-30-21-03-31.png)"
   ]
  },
  {
   "cell_type": "markdown",
   "metadata": {},
   "source": [
    "### 迭代过程\n",
    "1. ![](images/2022-08-30-21-15-55.png)\n",
    "2. ![](images/2022-08-30-21-16-14.png)\n",
    "3. ![](images/2022-08-30-21-15-21.png)\n",
    "4. ![](images/2022-08-30-21-16-42.png)\n",
    "5. ![](images/2022-08-30-21-16-54.png)"
   ]
  },
  {
   "cell_type": "markdown",
   "metadata": {},
   "source": [
    "\n"
   ]
  }
 ],
 "metadata": {
  "kernelspec": {
   "display_name": "Python 3.9.12 ('base')",
   "language": "python",
   "name": "python3"
  },
  "language_info": {
   "name": "python",
   "version": "3.9.12"
  },
  "orig_nbformat": 4,
  "vscode": {
   "interpreter": {
    "hash": "40f6bf15338c0154930a244fc3026a0d17ebaa8f8b3b254c75ff612c4b63945b"
   }
  }
 },
 "nbformat": 4,
 "nbformat_minor": 2
}
