{
 "cells": [
  {
   "cell_type": "markdown",
   "metadata": {},
   "source": [
    "# 网络地址转换NAT技术\n",
    "- IPv4最多只有40+亿个IP地址\n",
    "- 早期IP地址的不合理规划导致IP号浪费"
   ]
  },
  {
   "cell_type": "markdown",
   "metadata": {},
   "source": [
    "![](images/2022-08-30-15-46-49.png)\n",
    "![](images/2022-08-30-15-47-25.png)\n",
    "家庭只有一个IP地址\n",
    "很多时候企业也没有那么多IP地址"
   ]
  },
  {
   "cell_type": "markdown",
   "metadata": {},
   "source": [
    "IP地址其实可以分为两类：\n",
    "1. 内网地址：\n",
    "   - 内部机构使用\n",
    "   - 避免与外围地址重复\n",
    "2. 外网地址：全球范围内使用\n",
    "   - 全球范围使用\n",
    "   - 全球公网唯一"
   ]
  },
  {
   "cell_type": "markdown",
   "metadata": {},
   "source": [
    "## 内网地址\n",
    "三类内网地址\n",
    "![](images/2022-08-30-15-50-48.png)\n",
    "\n",
    "所以可以对网络拓扑进行拓展\n",
    "![](images/2022-08-30-15-52-04.png)"
   ]
  },
  {
   "cell_type": "markdown",
   "metadata": {},
   "source": [
    "这样解决了数量问题，但是会引发新的问题：\n",
    "内网多个设备使用同一个外网IP进行请求外网的服务，**外部怎么知道具体是哪个设备在请求？**"
   ]
  },
  {
   "cell_type": "markdown",
   "metadata": {},
   "source": [
    "## 网络地址转换技术NA(P)T（Network Address Translation）\n",
    "- Net技术用于多个主机通过一个公有IP访问互联网的私有网络中\n",
    "- 减缓了IP地址的消耗，但是怎加了网络通信的复杂度\n",
    "- 通过端口就可以知道是哪个设备在进行网络请求了\n",
    ">端口Port是每个进程进行网络请求的一个概念\n",
    "- ![](images/2022-08-30-16-01-30.png) \n",
    "这个映射的表我们称之为NA(P)T表"
   ]
  },
  {
   "cell_type": "markdown",
   "metadata": {},
   "source": [
    "- 虚拟机也是使用NAT技术来进行通信"
   ]
  }
 ],
 "metadata": {
  "kernelspec": {
   "display_name": "Python 3.9.12 ('base')",
   "language": "python",
   "name": "python3"
  },
  "language_info": {
   "name": "python",
   "version": "3.9.12"
  },
  "orig_nbformat": 4,
  "vscode": {
   "interpreter": {
    "hash": "40f6bf15338c0154930a244fc3026a0d17ebaa8f8b3b254c75ff612c4b63945b"
   }
  }
 },
 "nbformat": 4,
 "nbformat_minor": 2
}
