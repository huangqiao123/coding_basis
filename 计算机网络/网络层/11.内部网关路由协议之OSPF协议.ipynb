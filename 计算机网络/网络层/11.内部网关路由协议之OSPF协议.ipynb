{
 "cells": [
  {
   "cell_type": "markdown",
   "metadata": {},
   "source": [
    "# OSPF协议"
   ]
  },
  {
   "cell_type": "markdown",
   "metadata": {},
   "source": [
    "## 链路状态协议(LS协议)\n",
    "1. 向所有的路由器发送信息\n",
    "    ![](images/2022-08-30-21-49-54.png)\n",
    "2. 消息描述该路由器和相邻路由器的链路状态\n",
    "     1. 距离\n",
    "     2. 时延\n",
    "     3. 带宽\n",
    "    ![](images/2022-08-30-21-33-22.png)\n",
    "3. 只有链路状态发生改变的时候，才发送更新消息"
   ]
  },
  {
   "cell_type": "markdown",
   "metadata": {},
   "source": [
    "## OSPF协议的过程\n",
    "\n",
    "- OSPF(Open Shortest Path First)开放最短路径优先\n",
    "- OSPF协议的核心是Dijkstra算法"
   ]
  },
  {
   "cell_type": "markdown",
   "metadata": {},
   "source": [
    "1. ![](images/2022-08-30-21-40-23.png)\n",
    "2. ![](images/2022-08-30-21-41-19.png)\n",
    "3. ![](images/2022-08-30-21-41-46.png)"
   ]
  },
  {
   "cell_type": "markdown",
   "metadata": {},
   "source": [
    "### 五种消息类型\n",
    "1. 问候消息\n",
    "2. 链路状态数据库描述信息\n",
    "3. 链路状态请求消息\n",
    "4. **链路状态更新消息**\n",
    "5. 链路状态确认消息"
   ]
  },
  {
   "cell_type": "markdown",
   "metadata": {},
   "source": [
    "![](images/2022-08-30-21-45-02.png)"
   ]
  },
  {
   "cell_type": "markdown",
   "metadata": {},
   "source": [
    "![](images/2022-08-30-21-46-32.png)"
   ]
  },
  {
   "cell_type": "markdown",
   "metadata": {},
   "source": []
  }
 ],
 "metadata": {
  "kernelspec": {
   "display_name": "Python 3.9.12 ('base')",
   "language": "python",
   "name": "python3"
  },
  "language_info": {
   "codemirror_mode": {
    "name": "ipython",
    "version": 3
   },
   "file_extension": ".py",
   "mimetype": "text/x-python",
   "name": "python",
   "nbconvert_exporter": "python",
   "pygments_lexer": "ipython3",
   "version": "3.9.12"
  },
  "orig_nbformat": 4,
  "vscode": {
   "interpreter": {
    "hash": "40f6bf15338c0154930a244fc3026a0d17ebaa8f8b3b254c75ff612c4b63945b"
   }
  }
 },
 "nbformat": 4,
 "nbformat_minor": 2
}
