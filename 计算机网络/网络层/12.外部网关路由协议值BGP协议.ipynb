{
 "cells": [
  {
   "cell_type": "markdown",
   "metadata": {},
   "source": [
    "# BGP协议\n",
    "- 边际网关协议Border Gateway Protocol\n",
    "- BGP协议是运行在AS之间的一种协议"
   ]
  },
  {
   "cell_type": "markdown",
   "metadata": {},
   "source": [
    "### why ues BGP\n",
    "- 互联网的规模很大\n",
    "- AS内部使用不同的路由协议\n",
    "- ![](images/2022-08-30-22-46-36.png)\n",
    "- AS之间需要考虑网络特征以外的一些因素（政治、安全）\n",
    "- ![](images/2022-08-30-22-47-24.png)\n",
    "\n"
   ]
  },
  {
   "cell_type": "markdown",
   "metadata": {},
   "source": [
    "- BGP协议能够找到一条比较好的路由"
   ]
  },
  {
   "cell_type": "markdown",
   "metadata": {},
   "source": [
    "### BGP发言人（speaker）\n",
    "- 是一个路由器\n",
    "- ![](images/2022-08-30-22-49-23.png)\n",
    "- BGP并不关系内部网络拓扑\n",
    "- AS之间通过BGP发言人交流信息\n",
    "- BGP Speaker可以人为策略配置\n",
    "- ![](images/2022-08-30-22-51-59.png)"
   ]
  },
  {
   "cell_type": "markdown",
   "metadata": {},
   "source": [
    "### 结合ISP\n",
    "![](images/2022-08-30-22-52-30.png)\n",
    "\n",
    "### 结合CIDR\n",
    "![](images/2022-08-30-22-53-19.png)"
   ]
  }
 ],
 "metadata": {
  "kernelspec": {
   "display_name": "Python 3.9.12 ('base')",
   "language": "python",
   "name": "python3"
  },
  "language_info": {
   "name": "python",
   "version": "3.9.12"
  },
  "orig_nbformat": 4,
  "vscode": {
   "interpreter": {
    "hash": "40f6bf15338c0154930a244fc3026a0d17ebaa8f8b3b254c75ff612c4b63945b"
   }
  }
 },
 "nbformat": 4,
 "nbformat_minor": 2
}
