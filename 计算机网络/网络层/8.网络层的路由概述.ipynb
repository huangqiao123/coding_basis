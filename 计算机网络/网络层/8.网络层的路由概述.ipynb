{
 "cells": [
  {
   "cell_type": "markdown",
   "metadata": {},
   "source": [
    "# 网络层的路由概述"
   ]
  },
  {
   "cell_type": "markdown",
   "metadata": {},
   "source": [
    "![](images/2022-08-30-17-01-11.png)"
   ]
  },
  {
   "cell_type": "markdown",
   "metadata": {},
   "source": [
    "![](images/2022-08-30-17-03-42.png)\n",
    "- 下一跳地址是怎么来的？\n",
    "- 下一跳地址是唯一的吗？\n",
    "- 下一跳地址是最佳的吗？\n",
    "- 路由器这么多，他们是怎么协同工作的？"
   ]
  },
  {
   "cell_type": "markdown",
   "metadata": {},
   "source": [
    "## 将网络拓扑抽象为数据结构\n",
    "- 理论上可以用图论的算法来解决路由问题\n",
    "- 但是由于网络环境复杂，所以路由算法要比图论的算法复杂\n",
    "![](images/2022-08-30-17-10-11.png)\n",
    "\n",
    "### 理想的路由算法的特点\n",
    "1. 算法是正确的、完整的\n",
    "2. 算法在计算上应该尽可能简单\n",
    "3. 算法可以**适应网络中的变化**\n",
    "4. 算法是稳定的和公平的"
   ]
  },
  {
   "cell_type": "markdown",
   "metadata": {},
   "source": [
    "- 互联网的规模是非常庞大的\n",
    "- 互联网的环境是非常复杂的\n",
    "因此我们人为地对互联网进行划分"
   ]
  },
  {
   "cell_type": "markdown",
   "metadata": {},
   "source": [
    "### 自治系统(Autonomou System)\n",
    "- 一个自治系统（AS）是处于一个管理机构下的网络设备群\n",
    "- AS内部网络自行管理，AS对外提高一个或者多个出（入）口\n",
    "\n",
    "自治系统可以和网络层次对应上：\n",
    "![](images/2022-08-30-17-24-43.png)"
   ]
  },
  {
   "cell_type": "markdown",
   "metadata": {},
   "source": [
    "自治系统内部路由的协议称为：内部网关协议(RIP、OSPF)\n",
    "自治系统外部路由的协议称为：外部网关协议(BGP)\n",
    "![](images/2022-08-30-17-26-13.png)"
   ]
  },
  {
   "cell_type": "markdown",
   "metadata": {},
   "source": [
    "M"
   ]
  }
 ],
 "metadata": {
  "kernelspec": {
   "display_name": "Python 3.9.12 ('base')",
   "language": "python",
   "name": "python3"
  },
  "language_info": {
   "name": "python",
   "version": "3.9.12"
  },
  "orig_nbformat": 4,
  "vscode": {
   "interpreter": {
    "hash": "40f6bf15338c0154930a244fc3026a0d17ebaa8f8b3b254c75ff612c4b63945b"
   }
  }
 },
 "nbformat": 4,
 "nbformat_minor": 2
}
