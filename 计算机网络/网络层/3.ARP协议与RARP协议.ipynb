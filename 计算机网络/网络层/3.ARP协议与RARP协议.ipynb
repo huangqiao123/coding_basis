{
 "cells": [
  {
   "cell_type": "markdown",
   "metadata": {},
   "source": [
    "# ARP协议与RARP协议\n",
    "![](images/2022-08-30-10-13-39.png)\n",
    "A是如何知道目的MAC地址是E?"
   ]
  },
  {
   "cell_type": "markdown",
   "metadata": {},
   "source": [
    "## ARP地址解析协议（Address Resolution Protocol）\n",
    "![](images/2022-08-30-10-16-08.png)"
   ]
  },
  {
   "cell_type": "markdown",
   "metadata": {},
   "source": [
    ">![](images/2022-08-30-10-17-08.png)\n",
    "- 如果查不到则将下一跳的IP地址进行广播，接收回应。\n",
    "- ARP缓存表是ARP协议和RARP协议运行的关键。\n",
    "- ARP缓存表缓存了IP地址到硬件地址之间的映射关系。\n",
    "- ARP缓存表中的记录并不是永久有效，有一定的期限。\n",
    "- 查看ARP缓存表的命令是arp -a"
   ]
  },
  {
   "cell_type": "markdown",
   "metadata": {},
   "source": [
    "\n",
    "### ARP协议的报文信息\n",
    "- 直接封装在数据链路层的数据帧里\n",
    "- ![](images/2022-08-30-10-33-23.png)A\n"
   ]
  },
  {
   "cell_type": "markdown",
   "metadata": {},
   "source": [
    "## RARP协议（Reverse Address Resolution Protocol）逆地址解析协议\n",
    "![](images/2022-08-30-10-35-31.png)\n",
    "- 今天比较少使用了\n",
    "![](images/2022-08-30-10-35-54.png)"
   ]
  },
  {
   "cell_type": "markdown",
   "metadata": {},
   "source": [
    "1. ![](images/2022-08-30-10-43-15.png)\n",
    "2. ![](images/2022-08-30-10-43-28.png)\n"
   ]
  },
  {
   "cell_type": "markdown",
   "metadata": {},
   "source": [
    "- （R）ARP协议是TCP/IP协议栈里面最基础的协议\n",
    "- ARP和RARP的操作对程序员是透明的\n",
    "- 理解(R)ARP协议有助于理解网络分层的细节"
   ]
  }
 ],
 "metadata": {
  "kernelspec": {
   "display_name": "Python 3.9.12 ('base')",
   "language": "python",
   "name": "python3"
  },
  "language_info": {
   "name": "python",
   "version": "3.9.12"
  },
  "orig_nbformat": 4,
  "vscode": {
   "interpreter": {
    "hash": "40f6bf15338c0154930a244fc3026a0d17ebaa8f8b3b254c75ff612c4b63945b"
   }
  }
 },
 "nbformat": 4,
 "nbformat_minor": 2
}
