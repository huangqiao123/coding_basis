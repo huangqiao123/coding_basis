{
 "cells": [
  {
   "cell_type": "markdown",
   "metadata": {},
   "source": [
    "# ICMP协议\n",
    "- 网络控制报文协议（Internet Control Message Protocol）\n",
    "- ICMP协议可以报告错误信息或者异常情况"
   ]
  },
  {
   "cell_type": "markdown",
   "metadata": {},
   "source": [
    "## ICMP具体的报文格式\n",
    "- 封装在IP数据报的数据里面\n",
    "- ![](images/2022-08-30-16-15-58.png)"
   ]
  },
  {
   "cell_type": "markdown",
   "metadata": {},
   "source": [
    "### ICMP报文\n",
    "![](images/2022-08-30-16-16-57.png)"
   ]
  },
  {
   "cell_type": "markdown",
   "metadata": {},
   "source": [
    "IP报文的头部有协议字段，表面IP数据所携带的数据是什么了协议的\n",
    "![](images/2022-08-30-16-18-11.png)"
   ]
  },
  {
   "cell_type": "markdown",
   "metadata": {},
   "source": [
    "### 两个报文\n",
    "1. 差错报告的报文\n",
    "2. 询问报文\n",
    "\n",
    "#### 差错报告的报文\n",
    "![](images/![](images/2022-08-30-16-21-00.png)\n",
    ".png)\n",
    "- 主机号全为零表示整个网络\n",
    "#### 询问报文\n",
    "![](images/2022-08-30-16-27-32.png)\n",
    "- 需要对时间进行同步的时候可能需要时间戳报文"
   ]
  }
 ],
 "metadata": {
  "kernelspec": {
   "display_name": "Python 3.9.12 ('base')",
   "language": "python",
   "name": "python3"
  },
  "language_info": {
   "name": "python",
   "version": "3.9.12"
  },
  "orig_nbformat": 4,
  "vscode": {
   "interpreter": {
    "hash": "40f6bf15338c0154930a244fc3026a0d17ebaa8f8b3b254c75ff612c4b63945b"
   }
  }
 },
 "nbformat": 4,
 "nbformat_minor": 2
}
