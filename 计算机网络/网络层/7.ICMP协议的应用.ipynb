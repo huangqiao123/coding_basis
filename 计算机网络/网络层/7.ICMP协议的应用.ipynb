{
 "cells": [
  {
   "cell_type": "markdown",
   "metadata": {},
   "source": [
    "# ICMP协议的应用"
   ]
  },
  {
   "cell_type": "markdown",
   "metadata": {},
   "source": [
    "## Ping应用"
   ]
  },
  {
   "cell_type": "markdown",
   "metadata": {},
   "source": [
    "- 主要使用ICMP的询问报文\n",
    "- 发送回送请求或者应答\n",
    "\n",
    "1. 首先构造一个IP数据报\n",
    "2. 然后是ICMP数据报\n",
    "3. 然后将ICMP数据报封装到IP数据报里面\n",
    "\n",
    "### 使用步骤\n",
    "1. Ping回环地址127.0.0.1\n",
    "2. Ping网关地址192.168.0.1\n",
    "3. Ping远端地址 (失败说明家到ISP之间的网络是故障的)"
   ]
  },
  {
   "cell_type": "markdown",
   "metadata": {},
   "source": [
    "## Traceroute应用"
   ]
  },
  {
   "cell_type": "markdown",
   "metadata": {},
   "source": [
    "- 探查IP数据报在网络中走过的路径\n",
    "![](images/2022-08-30-16-45-26.png)\n",
    "\n",
    "### 工作原理\n",
    "![](images/2022-08-30-16-47-35.png)\n",
    "1. A发送TTL为1、2、3、...N的IP报文\n",
    "2. 中型网络、大型网络、中型网络、小型网络分别会丢弃这些IP报文，并且发送ICMP操作不可达报文，A会将他们的IP地址以此记录下来\n",
    "3. B收到之后会发送ICMP答应报文，A收到之后记录B的IP地址\n",
    "\n",
    "**巧妙地利用了TTL和ICMP终点不可达报文**\n",
    "\n",
    "使用也很简单：tracert 域名|IP地址"
   ]
  },
  {
   "cell_type": "markdown",
   "metadata": {},
   "source": []
  }
 ],
 "metadata": {
  "kernelspec": {
   "display_name": "Python 3.9.12 ('base')",
   "language": "python",
   "name": "python3"
  },
  "language_info": {
   "name": "python",
   "version": "3.9.12"
  },
  "orig_nbformat": 4,
  "vscode": {
   "interpreter": {
    "hash": "40f6bf15338c0154930a244fc3026a0d17ebaa8f8b3b254c75ff612c4b63945b"
   }
  }
 },
 "nbformat": 4,
 "nbformat_minor": 2
}
