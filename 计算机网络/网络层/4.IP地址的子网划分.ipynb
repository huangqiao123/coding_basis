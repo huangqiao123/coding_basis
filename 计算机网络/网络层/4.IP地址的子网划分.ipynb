{
 "cells": [
  {
   "cell_type": "markdown",
   "metadata": {},
   "source": [
    "# IP地址的子网划分\n",
    "- IP地址长度位为32位，四个字节\n",
    "- IP地址常常使用点分十进制来表示\n",
    "- **规划和分配IP地址非常麻烦**"
   ]
  },
  {
   "cell_type": "markdown",
   "metadata": {},
   "source": [
    "## 分类的IP地址\n",
    "对42亿IP地址进行分配是非常麻烦的\n",
    "\n",
    "- 网络号\n",
    "- 主机号\n",
    "\n",
    "1. A类  首位是0\n",
    "2. B类  首位是10\n",
    "3. C类  首位是110\n",
    ">![](images/2022-08-30-10-51-50.png)"
   ]
  },
  {
   "cell_type": "markdown",
   "metadata": {},
   "source": [
    "### 特殊的主机号\n",
    "- 主机号全为0表示当前网络段，不可分配为特定主机（）\n",
    "    如：1.0.0.0\n",
    "- 主机号全为1表示广播地址，向当前网络段所有主机发消息\n",
    "    如：1.255.255.255 \n",
    "\n",
    "### 特殊的网络号\n",
    ">![](images/2022-08-30-11-08-56.png)\n",
    "\n",
    "![](images/![](images/2022-08-30-11-10-34.png).png)\n",
    "- 回环地址\n",
    "- ![](images/2022-08-30-13-18-28.png)\n",
    "- 分类地址的补充\n",
    "![](images/2022-08-30-13-29-26.png)\n"
   ]
  },
  {
   "cell_type": "markdown",
   "metadata": {},
   "source": [
    "## 划分子网\n",
    "1. 问题：某公司拥有100名员工，每人配备一个计算机，请问该公司应该申请哪种网络段？\n",
    "![](images/2022-08-30-13-32-29.png)\n",
    "申请C类就够了\n",
    "\n",
    "2. 问题：某公司拥有256名员工，每人配备一个计算机，请问该公司应该申请哪种网络段？\n",
    "![](images/2022-08-30-13-33-11.png)\n",
    "只能分配B类地址，但是这样**造成了巨大的地址浪费**\n",
    "\n",
    "\n",
    "### 划分子网\n",
    ">![](images/2022-08-30-13-38-35.png)\n",
    ">![](images/2022-08-30-13-39-04.png)\n",
    "- 这样减少地址浪费的问题，但是引入新的问题：子网号这么多，有没有办法快速判断某个IP的网络号？\n"
   ]
  },
  {
   "cell_type": "markdown",
   "metadata": {},
   "source": [
    "### 子网掩码\n",
    "- 子网掩码和IP地址一样，都是32位\n",
    "- 子网掩码由连续的1和连续的0组成\n",
    "- 每个子网的子网掩码具备网络号位数个连续的1\n",
    "- ![](images/2022-08-30-13-45-07.png)"
   ]
  },
  {
   "cell_type": "markdown",
   "metadata": {},
   "source": [
    "> ![](images/2022-08-30-13-45-52.png)"
   ]
  },
  {
   "cell_type": "markdown",
   "metadata": {},
   "source": [
    "快速得到子网的网络号\n",
    "![](images/2022-08-30-13-48-24.png)\n",
    "**利用与运算来实现截取**"
   ]
  },
  {
   "cell_type": "markdown",
   "metadata": {},
   "source": [
    "## 无分类编址CIDR(重点)\n",
    "- CIDR中没有A、B、C类网络号、子网划分的概念\n",
    "- CIDR将网络前缀相同的IP地址称为一个**CIDR地址块**\n",
    "- ![](images/2022-08-30-13-52-48.png)\n",
    "\n",
    "### 斜线记法\n",
    "- 相比原来子网划分更加灵活\n",
    "![](images/2022-08-30-13-55-30.png)\n",
    "![](images/2022-08-30-13-55-41.png)"
   ]
  },
  {
   "cell_type": "markdown",
   "metadata": {},
   "source": [
    ">![](images/2022-08-30-14-11-04.png)"
   ]
  },
  {
   "cell_type": "markdown",
   "metadata": {},
   "source": [
    ">![](images/2022-08-30-14-11-50.png)"
   ]
  }
 ],
 "metadata": {
  "kernelspec": {
   "display_name": "Python 3.9.12 ('base')",
   "language": "python",
   "name": "python3"
  },
  "language_info": {
   "codemirror_mode": {
    "name": "ipython",
    "version": 3
   },
   "file_extension": ".py",
   "mimetype": "text/x-python",
   "name": "python",
   "nbconvert_exporter": "python",
   "pygments_lexer": "ipython3",
   "version": "3.9.12"
  },
  "orig_nbformat": 4,
  "vscode": {
   "interpreter": {
    "hash": "40f6bf15338c0154930a244fc3026a0d17ebaa8f8b3b254c75ff612c4b63945b"
   }
  }
 },
 "nbformat": 4,
 "nbformat_minor": 2
}
