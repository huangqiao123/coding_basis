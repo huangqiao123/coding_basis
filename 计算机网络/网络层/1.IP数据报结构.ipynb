{
 "cells": [
  {
   "cell_type": "markdown",
   "metadata": {},
   "source": [
    "# IP 协议详解\n",
    "问题\n",
    ">![](images/2022-08-30-08-08-17.png)![](images/2022-08-30-08-08-59.png)"
   ]
  },
  {
   "cell_type": "markdown",
   "metadata": {},
   "source": [
    "## 虚拟互连网络\n",
    "\n",
    "- 实际的计算机网络是错综复杂的\n",
    "- 物理设备通过使用IP协议，屏蔽了物理网络之间的差异\n",
    "- 当网络中的主机使用IP协议连接时，无需关注网络细节\n",
    "\n",
    "![](images/2022-08-30-08-12-32.png)\n",
    "- IP协议使得复杂的实际网络变为一个虚拟互连的网络\n",
    "- IP协议使得网络层可以屏蔽底层细节而专注网络层的数据转发\n",
    "- IP协议**解决了在虚拟网络中数据报传输路径的问题**\n"
   ]
  },
  {
   "cell_type": "markdown",
   "metadata": {},
   "source": [
    "### IP协议"
   ]
  },
  {
   "cell_type": "markdown",
   "metadata": {},
   "source": [
    "### MAC地址与IP地址\n",
    "![](images/2022-08-30-08-18-49.png)\n",
    "- 每一个网络设备拥有唯一的IP地址\n",
    "- IP地址是可能变的，当网络环境变了的时候。\n",
    "\n",
    "- IP地址长度为32位，常分为4个8位\n",
    "- IP地址使用点分十进制来表示（0~255.0~255.0~255.0~255）\n",
    "  114.114.114.114           1.1.1.1\n",
    "\n",
    "  8.8.8.8                   70.12.34.34\n",
    "  \n",
    "最多可以表示$2^{32}$个IP地址 约有43亿"
   ]
  },
  {
   "cell_type": "markdown",
   "metadata": {},
   "source": [
    "![](images/2022-08-30-08-26-13.png)\n",
    "- 头部信息\n",
    "![](images/2022-08-30-08-26-31.png)\n",
    "- 首部至少五行\n",
    "- 至少有20个字节的长度"
   ]
  },
  {
   "cell_type": "markdown",
   "metadata": {},
   "source": [
    "![](images/2022-08-30-08-29-02.png)"
   ]
  },
  {
   "cell_type": "markdown",
   "metadata": {},
   "source": [
    "![](images/2022-08-30-08-39-12.png)"
   ]
  },
  {
   "cell_type": "markdown",
   "metadata": {},
   "source": [
    "- ![](images/2022-08-30-08-41-09.png)\n",
    "- 若IP数据报文的大小>MTU，那么数据链路层将会对IP协议格式进行分片\n",
    "- ![](images/2022-08-30-08-44-59.png)"
   ]
  },
  {
   "cell_type": "markdown",
   "metadata": {},
   "source": [
    "![](images/2022-08-30-08-45-54.png)\n",
    "- 在有限次传输中到达目的地或者被丢弃\n",
    "- 避免无限传输减少带宽\n",
    "- ![](images/2022-08-30-08-47-11.png)\n",
    "- ![](images/2022-08-30-08-47-28.png)"
   ]
  },
  {
   "cell_type": "markdown",
   "metadata": {},
   "source": [
    "![](images/2022-08-30-08-48-23.png)"
   ]
  }
 ],
 "metadata": {
  "kernelspec": {
   "display_name": "Python 3.9.12 ('base')",
   "language": "python",
   "name": "python3"
  },
  "language_info": {
   "name": "python",
   "version": "3.9.12"
  },
  "orig_nbformat": 4,
  "vscode": {
   "interpreter": {
    "hash": "40f6bf15338c0154930a244fc3026a0d17ebaa8f8b3b254c75ff612c4b63945b"
   }
  }
 },
 "nbformat": 4,
 "nbformat_minor": 2
}
