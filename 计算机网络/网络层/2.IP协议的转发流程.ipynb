{
 "cells": [
  {
   "cell_type": "markdown",
   "metadata": {},
   "source": [
    "# IP协议的转发流程\n",
    "工作过程"
   ]
  },
  {
   "cell_type": "markdown",
   "metadata": {},
   "source": [
    "某一条链路的过程    逐跳（hop-by-hop）\n",
    "![](images/2022-08-30-09-38-47.png)"
   ]
  },
  {
   "cell_type": "markdown",
   "metadata": {},
   "source": [
    "## 路由表简介\n",
    "- 路由表形式\n",
    "- ![](images/2022-08-30-09-41-36.png)\n",
    "1. 目的IP地址\n",
    "2. 下一跳地址\n",
    "3. 计算机和路由器都拥有路由表\n",
    "|"
   ]
  },
  {
   "cell_type": "markdown",
   "metadata": {},
   "source": [
    "## IP协议的转发流程"
   ]
  },
  {
   "cell_type": "markdown",
   "metadata": {},
   "source": [
    "![](images/2022-08-30-09-49-52.png)"
   ]
  },
  {
   "cell_type": "markdown",
   "metadata": {},
   "source": [
    "![](images/2022-08-30-09-50-54.png)"
   ]
  },
  {
   "cell_type": "markdown",
   "metadata": {},
   "source": [
    "![](images/2022-08-30-09-51-33.png)"
   ]
  },
  {
   "cell_type": "markdown",
   "metadata": {},
   "source": [
    "- 数据帧每一跳的MAC地址都在变化\n",
    "- IP数据报每一跳的IP地址始终不变"
   ]
  }
 ],
 "metadata": {
  "kernelspec": {
   "display_name": "Python 3.9.12 ('base')",
   "language": "python",
   "name": "python3"
  },
  "language_info": {
   "name": "python",
   "version": "3.9.12"
  },
  "orig_nbformat": 4,
  "vscode": {
   "interpreter": {
    "hash": "40f6bf15338c0154930a244fc3026a0d17ebaa8f8b3b254c75ff612c4b63945b"
   }
  }
 },
 "nbformat": 4,
 "nbformat_minor": 2
}
