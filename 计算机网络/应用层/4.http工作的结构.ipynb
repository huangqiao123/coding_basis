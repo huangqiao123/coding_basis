{
 "cells": [
  {
   "cell_type": "markdown",
   "metadata": {},
   "source": [
    "# HTTP工作的结构\n"
   ]
  },
  {
   "cell_type": "markdown",
   "metadata": {},
   "source": [
    "## Web缓存\n",
    "![](images/2022-09-03-15-36-43.png)\n",
    "- 二八定律：80%的业务访问集中在20%的数据上\n",
    "\n",
    "- Web缓存分为私有缓存和共享缓存\n",
    "- 私有缓存在客户端主机上，共享缓存在代理服务器上面"
   ]
  },
  {
   "cell_type": "markdown",
   "metadata": {},
   "source": [
    "## Web代理\n",
    "![](images/2022-09-03-15-39-56.png)\n",
    "### 正向代理\n",
    "![](images/2022-09-03-15-40-33.png)\n",
    "\n",
    "### 反向代理\n",
    "![](images/2022-09-03-15-41-43.png)"
   ]
  },
  {
   "cell_type": "markdown",
   "metadata": {},
   "source": [
    "## CDN\n",
    "- 内容分发网络\n",
    "- 就近原则\n",
    ">![](images/2022-09-03-16-08-31.png)\n",
    "- 基本原理是广泛采用各种缓存服务器\n",
    "![](images/2022-09-03-15-43-11.png)"
   ]
  },
  {
   "cell_type": "markdown",
   "metadata": {},
   "source": [
    "## 爬虫\n",
    "![](images/2022-09-03-15-45-01.png)\n",
    ">爬虫是获取网页并提取和保存信息的自动化程序\n",
    "\n",
    "![](images/2022-09-03-15-43-33.png)\n",
    "- 增加网络拥塞\n",
    "- 损耗服务器资源"
   ]
  },
  {
   "cell_type": "markdown",
   "metadata": {},
   "source": []
  }
 ],
 "metadata": {
  "kernelspec": {
   "display_name": "Python 3.9.12 ('base')",
   "language": "python",
   "name": "python3"
  },
  "language_info": {
   "name": "python",
   "version": "3.9.12"
  },
  "orig_nbformat": 4,
  "vscode": {
   "interpreter": {
    "hash": "40f6bf15338c0154930a244fc3026a0d17ebaa8f8b3b254c75ff612c4b63945b"
   }
  }
 },
 "nbformat": 4,
 "nbformat_minor": 2
}
