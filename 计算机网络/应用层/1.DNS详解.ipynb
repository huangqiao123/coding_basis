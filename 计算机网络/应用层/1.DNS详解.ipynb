{
 "cells": [
  {
   "cell_type": "markdown",
   "metadata": {},
   "source": [
    "# DNS\n",
    "- Domain Name System：域名系统】\n",
    ">域对于着网络段或者说是AS(自治系统)\n",
    "\n",
    ">名：每一个IP对应的名字"
   ]
  },
  {
   "cell_type": "markdown",
   "metadata": {},
   "source": [
    "## DNS产生的出发点\n",
    ">![](images/2022-09-03-13-29-06.png)\n",
    "\n",
    "- 给定IP和端口，就可以申请到对应的服务，逻辑上是没问题的。\n",
    "- 但是有个问题，当任务很复杂，如何记者如此之多的IP和端口呢？\n",
    "\n",
    ">DNS把|\n",
    "\n",
    ">使用域名帮助记忆\n",
    "\n",
    ">![](images/2022-09-03-13-31-26.png)"
   ]
  },
  {
   "cell_type": "markdown",
   "metadata": {},
   "source": [
    "## DNS详解\n",
    "1. 域名是由点、字母和数字组成的（字母不区分大小写）\n",
    "2. 点分割不同的域\n",
    "3. 域名可以分为顶级域、二级域、三级域甚至更多，但是到三级域足以\n",
    "\n",
    "例如 `www.taobao.com`\n",
    "1. com表示顶级域\n",
    "2. taobao是二级域\n",
    "3. www是三级域\n",
    "\n",
    "### 顶级域\n",
    "![](images/2022-09-03-13-42-37.png)\n",
    "- net网络服务机构、\n",
    "- 选择我们可以在阿里云、百度云、腾讯云、华为云等等来申请自己的域名"
   ]
  },
  {
   "cell_type": "markdown",
   "metadata": {},
   "source": [
    "### 二级域\n",
    "![](images/2022-09-03-13-46-24.png)\n",
    "有二级域和顶级域就可以比较充分的信息\n",
    "\n",
    "### 域名树\n",
    "![](images/2022-09-03-13-47-43.png)\n",
    "\n",
    "## 服务器\n",
    ">![](images/2022-09-03-13-55-36.png)\n",
    "\n",
    ">先从本地域名服务器查找，若查找不到，再从根域名服务器开始迭代\n"
   ]
  },
  {
   "cell_type": "markdown",
   "metadata": {},
   "source": []
  }
 ],
 "metadata": {
  "kernelspec": {
   "display_name": "Python 3.9.12 ('base')",
   "language": "python",
   "name": "python3"
  },
  "language_info": {
   "name": "python",
   "version": "3.9.12"
  },
  "orig_nbformat": 4,
  "vscode": {
   "interpreter": {
    "hash": "40f6bf15338c0154930a244fc3026a0d17ebaa8f8b3b254c75ff612c4b63945b"
   }
  }
 },
 "nbformat": 4,
 "nbformat_minor": 2
}
