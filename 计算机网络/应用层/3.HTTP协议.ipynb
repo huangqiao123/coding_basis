{
 "cells": [
  {
   "cell_type": "markdown",
   "metadata": {},
   "source": [
    "# HTTP协议\n",
    "- HyperText Transfer Protocol：超文本传输协议\n",
    "- **高效且准确地传输超文本数据**\n",
    ">超文本，简单理解为超级文本、带超链接的文本，可以从网站的一个地方到达另一个地方。这是富文本的一种形式，可以携带图片、语音、视频等等。"
   ]
  },
  {
   "cell_type": "markdown",
   "metadata": {},
   "source": [
    "## 详解\n",
    "![](images/2022-09-03-14-34-35.png)\n",
    "- 主机可以是ip或者域名\n",
    "- HTTP协议是可靠的数据传输协议，基于TCP协议\n",
    "    >![](images/2022-09-03-14-35-27.png)\n",
    "\n",
    "- 运行在典型的csj架构上的\n",
    "    >![](images/2022-09-03-14-38-01.png)\n",
    "\n",
    "### web服务器\n",
    "![](images/2022-09-03-14-38-27.png)\n",
    "1. 硬件部分，可以是普通服务器，也可以是虚拟服务器\n",
    "2. 软件服务，重点讨论web服务器的软件部分\n",
    "\n",
    "#### web服务器的工作流程\n",
    "1. 接收客户端连接：告诉客户端IP以及端口\n",
    "2. 接收请求报文\n",
    "3. 处理请求\n",
    "4. 访问Web资源\n",
    "5. 构造应答报文\n",
    "6. 发送应答\n",
    "\n",
    ">![](images/2022-09-03-14-42-31.png)"
   ]
  },
  {
   "cell_type": "markdown",
   "metadata": {},
   "source": [
    "##### 请求方法\n",
    ">![](images/2022-09-03-14-44-05.png)\n",
    "\n",
    ">![](images/2022-09-03-14-46-00.png)\n",
    "\n",
    "- 所有的方法都是针对指定的资源\n",
    "\n",
    "##### 请求头\n",
    "\n",
    "\n",
    "指定的方法：\n",
    "1. 在地址里指定\n",
    "    >![](images/2022-09-03-14-48-55.png)\n",
    "\n",
    "2. 在请求数据里面指定资源\n",
    "两种方法均是在报文的内容中指定\n",
    "    - 请求报文\n",
    "    >![](images/2022-09-03-14-50-04.png)\n",
    "    - 应答报文\n",
    "    >![](images/2022-09-03-14-50-27.png)\n",
    "        1. 状态码：\n",
    "        > ![](images/2022-09-03-15-12-41.png)\n",
    "\n",
    "    请求报文例子：内容以json格式来保存的\n",
    "    ![](images/2022-09-03-14-52-21.png)\n",
    "\n"
   ]
  },
  {
   "cell_type": "markdown",
   "metadata": {},
   "source": []
  }
 ],
 "metadata": {
  "kernelspec": {
   "display_name": "Python 3.9.12 ('base')",
   "language": "python",
   "name": "python3"
  },
  "language_info": {
   "name": "python",
   "version": "3.9.12"
  },
  "orig_nbformat": 4,
  "vscode": {
   "interpreter": {
    "hash": "40f6bf15338c0154930a244fc3026a0d17ebaa8f8b3b254c75ff612c4b63945b"
   }
  }
 },
 "nbformat": 4,
 "nbformat_minor": 2
}
