{
 "cells": [
  {
   "cell_type": "markdown",
   "metadata": {},
   "source": [
    "# 应用层概述\n",
    "\n",
    ">应用层的位置\n",
    "![](images/2022-09-03-13-04-49.png)\n",
    "\n",
    ">工作在终端设备\n",
    "\n",
    ">![](images/2022-09-03-13-05-21.png)\n",
    "\n",
    "- 传输层及以下的层提供完整的通信服务\n",
    "- 面向用户的一层，为用户解决问题的。其他的是为了提供完整的通信服务功能。\n",
    "- 应用层的协议和软件是很多的。\n",
    ">![](images/2022-09-03-13-15-28.png)"
   ]
  },
  {
   "cell_type": "markdown",
   "metadata": {},
   "source": [
    "## 基于UDP协议的应用层\n",
    ">![](images/2022-09-03-13-16-43.png)\n",
    "- 多用于实时信息的展示\n",
    "比如直播，这一秒的数据丢失了，没关系，下一秒会有新的数据进行补充"
   ]
  },
  {
   "cell_type": "markdown",
   "metadata": {},
   "source": [
    "## 基于TCP协议的应用层\n",
    ">![](images/2022-09-03-13-18-24.png)\n",
    "- 用于可靠传输"
   ]
  },
  {
   "cell_type": "markdown",
   "metadata": {},
   "source": [
    "## 应用层的功能\n",
    "**定义应用间通信功能**\n",
    "- 应用进程的报文类型（请求报文、应答报文）\n",
    "- 报文的语法、格式\n",
    "- 应用进程发送数据的时机、规则"
   ]
  },
  {
   "cell_type": "markdown",
   "metadata": {},
   "source": []
  }
 ],
 "metadata": {
  "kernelspec": {
   "display_name": "Python 3.9.12 ('base')",
   "language": "python",
   "name": "python3"
  },
  "language_info": {
   "name": "python",
   "version": "3.9.12"
  },
  "orig_nbformat": 4,
  "vscode": {
   "interpreter": {
    "hash": "40f6bf15338c0154930a244fc3026a0d17ebaa8f8b3b254c75ff612c4b63945b"
   }
  }
 },
 "nbformat": 4,
 "nbformat_minor": 2
}
