{
 "cells": [
  {
   "cell_type": "markdown",
   "metadata": {},
   "source": [
    "# 实现基本任务对象Task"
   ]
  },
  {
   "cell_type": "markdown",
   "metadata": {},
   "source": [
    "- 任务处理逻辑\n",
    "- ![](images/2022-08-28-18-38-42.png)"
   ]
  },
  {
   "cell_type": "code",
   "execution_count": 4,
   "metadata": {},
   "outputs": [
    {
     "name": "stdout",
     "output_type": "stream",
     "text": [
      "Task id791cd1e2-902e-4abc-af29-5f8fda6cdbb8\n"
     ]
    }
   ],
   "source": [
    "import uuid\n",
    "class Task:\n",
    "    def __init__(self,func,*args,**kwargs):\n",
    "        #任务的具体逻辑，通过函数引用传递进来\n",
    "        #args、kwargs是任务具体逻辑的参数\n",
    "        self.args=args\n",
    "        self.kwargs=kwargs\n",
    "        self.callable=func\n",
    "        self.id=uuid.uuid4()\n",
    "        pass\n",
    "    def __str__(self):\n",
    "        return 'Task id'+str(self.id)\n",
    "def my_function():\n",
    "    print('this is a task test')\n",
    "if __name__=='__main__':\n",
    "    task = Task(func=my_function)\n",
    "    print(task)"
   ]
  },
  {
   "cell_type": "code",
   "execution_count": null,
   "metadata": {},
   "outputs": [],
   "source": []
  }
 ],
 "metadata": {
  "kernelspec": {
   "display_name": "Python 3.9.12 ('base')",
   "language": "python",
   "name": "python3"
  },
  "language_info": {
   "codemirror_mode": {
    "name": "ipython",
    "version": 3
   },
   "file_extension": ".py",
   "mimetype": "text/x-python",
   "name": "python",
   "nbconvert_exporter": "python",
   "pygments_lexer": "ipython3",
   "version": "3.9.12"
  },
  "orig_nbformat": 4,
  "vscode": {
   "interpreter": {
    "hash": "40f6bf15338c0154930a244fc3026a0d17ebaa8f8b3b254c75ff612c4b63945b"
   }
  }
 },
 "nbformat": 4,
 "nbformat_minor": 2
}
