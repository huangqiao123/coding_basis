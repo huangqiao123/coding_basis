{
 "cells": [
  {
   "cell_type": "markdown",
   "metadata": {},
   "source": [
    "# 线程池"
   ]
  },
  {
   "cell_type": "markdown",
   "metadata": {},
   "source": [
    "## 什么是线程池\n",
    "- 线程池是存放多个线程的容器\n",
    "- CPU调度线程执行后不会销毁线程\n",
    "- 将线程返回线程池重复利用\n",
    "## 为什么需要线程池\n",
    "- 线程是稀缺资源，不应该频繁创建和销毁，创建和销毁需要额外资源\n",
    "- 架构解耦，线程创建和业务处理解耦，更加优雅\n",
    "- 线程池是使用线程的最佳实践\n",
    "![](images/2022-08-28-22-12-29.png)\n",
    "解耦就是努力使程序积木化\n",
    "我们应该使用线程池把所有需要的线程先创立起来，这样可以实现架构的解耦"
   ]
  },
  {
   "cell_type": "markdown",
   "metadata": {},
   "source": [
    "## 线程池的实现"
   ]
  },
  {
   "cell_type": "markdown",
   "metadata": {},
   "source": [
    "### 任务处理线程ProcessThread\n",
    "- 任务处理线程需要不断地从任务队列里取任务执行\n",
    "- 任务处理线程需要有一个标记，标记线程什么时候应该停止\n",
    "  ![](images/2022-08-28-22-16-35.png)"
   ]
  },
  {
   "cell_type": "code",
   "execution_count": 4,
   "metadata": {},
   "outputs": [],
   "source": [
    "import threading\n",
    "class ProcessThread(threading.Thread):\n",
    "\n",
    "\n",
    "    def __init__(self,task_queue,*args,**kwargs):\n",
    "        threading.Thread.__init__(self,*args,**kwargs)\n",
    "        #停止标记\n",
    "        self.dismiss_flag=threading.Event()\n",
    "        #任务队列\n",
    "        self.task_queue=task_queue\n",
    "        self.args=args\n",
    "        self.kwargs=kwargs\n",
    "        \n",
    "    def run(self):\n",
    "        while True:\n",
    "            #判断线程是否被要求停止\n",
    "            if self.dismiss_flag.is_set():\n",
    "                break\n",
    "            task=self.task_queue.pop()\n",
    "            if not isinstance(task,Task):\n",
    "                #忽略这次任务\n",
    "                continue\n",
    "            # 执行task实际逻辑（是通过函数调用引进来的）\n",
    "            result=task.callable(*task.args,**task.kwargs)\n",
    "\n",
    "    def dismiss(self):\n",
    "        self.dismiss_flag.set()\n",
    "\n",
    "    def stop(self):\n",
    "        self.dismiss()"
   ]
  },
  {
   "cell_type": "markdown",
   "metadata": {},
   "source": [
    "### 实现任务处理线程池Pool\n",
    "1. 存放多个任务处理线程\n",
    "2. 负责多个线程的启停\n",
    "3. 管理向线程池的提交任务，下发给线程去执行 \n",
    "![](images/2022-08-29-00-17-17.png)"
   ]
  },
  {
   "cell_type": "code",
   "execution_count": 5,
   "metadata": {},
   "outputs": [],
   "source": [
    "from concurrent.futures import thread\n",
    "import psutil\n",
    "import threading\n",
    "\n",
    "class TaskTypeErrorException:\n",
    "    pass\n",
    "\n",
    "\n",
    "class ThreadPool:\n",
    "\n",
    "    def __init__(self,size=0):\n",
    "        if not size:\n",
    "            #约定线程池的大小为CPU核数的两倍（最佳实践）\n",
    "            size=psutil.cpu_count()*2\n",
    "        #线程池\n",
    "        self.pool=ThreadSafeQueue(size)\n",
    "        #任务队列\n",
    "        self.task_queue=ThreadSafeQueue()\n",
    "        for i in range(size):\n",
    "            self.pool.put(ProcessThread(self.task_queue))\n",
    "    def start(self):\n",
    "        for i in range(self.pool.size()):\n",
    "            thread=self.pool.get(i)\n",
    "            thread.start()\n",
    "        \n",
    "\n",
    "            \n",
    "    def join(self):\n",
    "        for i in range(self.pool.size()):\n",
    "            thread=self.pool.get(i)\n",
    "            thread.stop()\n",
    "        while self.pool.size:\n",
    "            thread=self.pool.pop()\n",
    "            thread.join()\n",
    "\n",
    "    def put(self,item):\n",
    "        if not isinstance(item,Task):\n",
    "            raise TaskTypeErrorException()\n",
    "        self.put(item)\n",
    "\n",
    "    def batch_put(self,item_list):\n",
    "        if not isinstance(item_list,list):\n",
    "            item_list=list(item_list)\n",
    "        for item in item_list:\n",
    "            self.put(item)\n",
    "        \n",
    "    def size(self):\n",
    "        return self.pool.size()"
   ]
  },
  {
   "cell_type": "code",
   "execution_count": null,
   "metadata": {},
   "outputs": [],
   "source": []
  }
 ],
 "metadata": {
  "kernelspec": {
   "display_name": "Python 3.9.12 ('base')",
   "language": "python",
   "name": "python3"
  },
  "language_info": {
   "codemirror_mode": {
    "name": "ipython",
    "version": 3
   },
   "file_extension": ".py",
   "mimetype": "text/x-python",
   "name": "python",
   "nbconvert_exporter": "python",
   "pygments_lexer": "ipython3",
   "version": "3.9.12"
  },
  "orig_nbformat": 4,
  "vscode": {
   "interpreter": {
    "hash": "40f6bf15338c0154930a244fc3026a0d17ebaa8f8b3b254c75ff612c4b63945b"
   }
  }
 },
 "nbformat": 4,
 "nbformat_minor": 2
}
